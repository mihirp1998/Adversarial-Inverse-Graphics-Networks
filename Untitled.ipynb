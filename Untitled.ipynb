{
 "cells": [
  {
   "cell_type": "code",
   "execution_count": 1,
   "metadata": {},
   "outputs": [],
   "source": [
    "import tensorflow as tf\n",
    "import tensorflow.contrib.slim as slim"
   ]
  },
  {
   "cell_type": "code",
   "execution_count": 2,
   "metadata": {},
   "outputs": [],
   "source": [
    "plc = tf.placeholder(tf.float32,[None, 32,32,3],name='real_A_and_B_images')"
   ]
  },
  {
   "cell_type": "code",
   "execution_count": 98,
   "metadata": {},
   "outputs": [
    {
     "name": "stdout",
     "output_type": "stream",
     "text": [
      "Tensor(\"generator12_1/Relu_12:0\", shape=(?, 128, 128, 256), dtype=float32)\n",
      "Tensor(\"generator12_1/Tanh:0\", shape=(?, 128, 128, 3), dtype=float32)\n"
     ]
    }
   ],
   "source": [
    "image = generator_resnet(plc,reuse=True)\n",
    "print(image)"
   ]
  },
  {
   "cell_type": "code",
   "execution_count": 82,
   "metadata": {},
   "outputs": [
    {
     "name": "stdout",
     "output_type": "stream",
     "text": [
      "Tensor(\"discriminate4_3/Maximum_4:0\", shape=(?, 4, 4, 512), dtype=float32)\n",
      "Tensor(\"discriminate4_3/fully_connected/Sigmoid:0\", shape=(?, 1), dtype=float32)\n"
     ]
    }
   ],
   "source": [
    "d = discrim(image,reuse=True)\n",
    "print(d)"
   ]
  },
  {
   "cell_type": "code",
   "execution_count": 77,
   "metadata": {},
   "outputs": [
    {
     "data": {
      "text/plain": [
       "<tf.Tensor 'average_pooling2d_13/AvgPool:0' shape=(?, 32, 32, 3) dtype=float32>"
      ]
     },
     "execution_count": 77,
     "metadata": {},
     "output_type": "execute_result"
    }
   ],
   "source": [
    "inp = tf.placeholder(tf.float32,[None,128,128,3],name='real_A')\n",
    "tf.layers.average_pooling2d(inp,6,4,padding='same')"
   ]
  },
  {
   "cell_type": "code",
   "execution_count": 4,
   "metadata": {},
   "outputs": [],
   "source": [
    "def instance_norm(input, name=\"instance_norm\"):\n",
    "    with tf.variable_scope(name):\n",
    "        depth = input.get_shape()[3]\n",
    "        scale = tf.get_variable(\"scale\", [depth], initializer=tf.random_normal_initializer(1.0, 0.02, dtype=tf.float32))\n",
    "        offset = tf.get_variable(\"offset\", [depth], initializer=tf.constant_initializer(0.0))\n",
    "        mean, variance = tf.nn.moments(input, axes=[1,2], keep_dims=True)\n",
    "        epsilon = 1e-5\n",
    "        inv = tf.rsqrt(variance + epsilon)\n",
    "        normalized = (input-mean)*inv\n",
    "        return scale*normalized + offset"
   ]
  },
  {
   "cell_type": "code",
   "execution_count": 89,
   "metadata": {},
   "outputs": [],
   "source": [
    "def residule_block(x, dim, ks=3, s=1, name='res'):\n",
    "    p = int((ks - 1) / 2)\n",
    "    y = tf.pad(x, [[0, 0], [p, p], [p, p], [0, 0]], \"REFLECT\")\n",
    "    y = instance_norm(conv2d(y, dim, ks, s, padding='VALID', name=name+'_c1'), name+'_bn1')\n",
    "    y = tf.pad(tf.nn.relu(y), [[0, 0], [p, p], [p, p], [0, 0]], \"REFLECT\")\n",
    "    y = instance_norm(conv2d(y, dim, ks, s, padding='VALID', name=name+'_c2'), name+'_bn2')\n",
    "    return y + x"
   ]
  },
  {
   "cell_type": "code",
   "execution_count": 62,
   "metadata": {},
   "outputs": [],
   "source": [
    "def discrim(image, reuse=False, name=\"discriminate4\"):    \n",
    "    with tf.variable_scope(name):\n",
    "        # image is 256 x 256 x input_c_dim\n",
    "        if reuse:\n",
    "            tf.get_variable_scope().reuse_variables()\n",
    "        else:\n",
    "            assert tf.get_variable_scope().reuse is False    \n",
    "        c1 = tf.nn.relu(instance_norm(conv2d(image, 3, 7, 1, padding='SAME', name='d_h_conv'), 'd_bn'))\n",
    "        h0 = lrelu(conv2d(c1, 64, name='d_h0_conv'))\n",
    "        # h0 is (128 x 128 x self.df_dim)\n",
    "        h1 = lrelu(instance_norm(conv2d(h0,64*2, name='d_h1_conv'), 'd_bn1'))\n",
    "        # h1 is (64 x 64 x self.df_dim*2)\n",
    "        h2 = lrelu(instance_norm(conv2d(h1, 64*4, name='d_h2_conv'), 'd_bn2'))\n",
    "        # h2 is (32x 32 x self.df_dim*4)\n",
    "        h3 = lrelu(instance_norm(conv2d(h2, 64*8, name='d_h3_conv'), 'd_bn3'))\n",
    "        # h3 is (32 x 32 x self.df_dim*8)\n",
    "        h3 = lrelu(instance_norm(conv2d(h3, 64*8, name='d_h4_conv'), 'd_bn4'))\n",
    "        print(h3)\n",
    "        h3_flat = tf.layers.flatten(h3,name=None)\n",
    "        logit = tf.contrib.layers.fully_connected(h3_flat,1,activation_fn=tf.sigmoid)\n",
    "        return logit"
   ]
  },
  {
   "cell_type": "code",
   "execution_count": 8,
   "metadata": {},
   "outputs": [],
   "source": [
    "def deconv2d(input_, output_dim, ks=4, s=2, stddev=0.02, name=\"deconv2d\"):\n",
    "    with tf.variable_scope(name, reuse=tf.AUTO_REUSE):\n",
    "        return slim.conv2d_transpose(input_, output_dim, ks, s, padding='SAME', activation_fn=None,\n",
    "                                    weights_initializer=tf.truncated_normal_initializer(stddev=stddev),\n",
    "                                    biases_initializer=None)"
   ]
  },
  {
   "cell_type": "code",
   "execution_count": 97,
   "metadata": {},
   "outputs": [],
   "source": [
    "def generator_resnet(image, reuse=True, name=\"generator12\"):\n",
    "\n",
    "    with tf.variable_scope(name,reuse=reuse):\n",
    "\n",
    "\n",
    "\n",
    "        def residule_block(x, dim, ks=3, s=1, name='res'):\n",
    "            p = int((ks - 1) / 2)\n",
    "            y = tf.pad(x, [[0, 0], [p, p], [p, p], [0, 0]], \"REFLECT\")\n",
    "            y = instance_norm(conv2d(y, dim, ks, s, padding='VALID', name=name+'_c1'), name+'_bn1')\n",
    "            y = tf.pad(tf.nn.relu(y), [[0, 0], [p, p], [p, p], [0, 0]], \"REFLECT\")\n",
    "            y = instance_norm(conv2d(y, dim, ks, s, padding='VALID', name=name+'_c2'), name+'_bn2')\n",
    "            return y + x\n",
    "\n",
    "\n",
    "        c1 = tf.nn.relu(instance_norm(conv2d(image, 64, 7, 1, padding='SAME', name='init_conv'), 'init_bn'))\n",
    "\n",
    "        \n",
    "        r1 = residule_block(c1, 64, name='g_r1')\n",
    "        r2 = residule_block(r1, 64, name='g_r2')\n",
    "        r3 = residule_block(r2, 64, name='g_r3')\n",
    "        r4 = residule_block(r3, 64, name='g_r4')\n",
    "        r5 = residule_block(r4, 64, name='g_r5')\n",
    "        r6 = residule_block(r5, 64, name='g_r6')\n",
    "        r7 = residule_block(r6, 64, name='g_r7')\n",
    "        r8 = residule_block(r7, 64, name='g_r8')\n",
    "        r9 = residule_block(r8, 64, name='g_r9')\n",
    "        c2 = tf.nn.relu(instance_norm(conv2d(image, 64, 3, 1, padding='SAME', name='first_conv'), 'first_bn'))\n",
    "        d1 = deconv2d(c2, 256, 3, 2, name='g_d1_dc1')\n",
    "        d1 = tf.nn.relu(instance_norm(d1, 'g_d1_bn'))\n",
    "        d2 = deconv2d(d1, 256, 3, 2, name='g_d2_dc')\n",
    "        d2 = tf.nn.relu(instance_norm(d2, 'g_d2_bn'))\n",
    "        print(d2)\n",
    "        d2 = tf.pad(d2, [[0, 0], [3, 3], [3, 3], [0, 0]], \"REFLECT\")\n",
    "        pred = tf.nn.tanh(conv2d(d2, 3, 7, 1, padding='VALID', name='g_pred_c'))\n",
    "\n",
    "        return pred"
   ]
  },
  {
   "cell_type": "code",
   "execution_count": 10,
   "metadata": {},
   "outputs": [],
   "source": [
    "def conv2d(input_, output_dim, ks=4, s=2, stddev=0.02, padding='SAME', name=\"conv2d\"):\n",
    "    with tf.variable_scope(name):\n",
    "        return slim.conv2d(input_, output_dim, ks, s, padding=padding, activation_fn=None,\n",
    "                            weights_initializer=tf.truncated_normal_initializer(stddev=stddev),\n",
    "                            biases_initializer=None)\n",
    "def lrelu(x, leak=0.2, name=\"lrelu\"):\n",
    "    return tf.maximum(x, leak*x)\n"
   ]
  }
 ],
 "metadata": {
  "kernelspec": {
   "display_name": "Python 2",
   "language": "python",
   "name": "python2"
  },
  "language_info": {
   "codemirror_mode": {
    "name": "ipython",
    "version": 2
   },
   "file_extension": ".py",
   "mimetype": "text/x-python",
   "name": "python",
   "nbconvert_exporter": "python",
   "pygments_lexer": "ipython2",
   "version": "2.7.15"
  }
 },
 "nbformat": 4,
 "nbformat_minor": 2
}
